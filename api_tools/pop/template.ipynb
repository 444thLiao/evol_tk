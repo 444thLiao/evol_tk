{
 "cells": [
  {
   "cell_type": "code",
   "execution_count": null,
   "metadata": {},
   "outputs": [],
   "source": [
    "from api_tools.pop.tk import *"
   ]
  },
  {
   "cell_type": "markdown",
   "metadata": {},
   "source": [
    "# For mugsy alignment\n",
    "\n",
    "## convert maf to tab"
   ]
  },
  {
   "cell_type": "code",
   "execution_count": null,
   "metadata": {},
   "outputs": [],
   "source": [
    "\n",
    "maf = ''\n",
    "name2length = {}\n",
    "\n",
    "block_dict = parse_maf(maf,name2length)\n",
    "write_block(block_dict, \n",
    "            otab, \n",
    "            otab.replace('.tab', '_block_aln'),\n",
    "            min_length=500,\n",
    "            min_genomes=37)\n",
    "\n"
   ]
  },
  {
   "cell_type": "markdown",
   "metadata": {},
   "source": [
    "## Convert SNP along with the concatenated alignment to position at reference genome"
   ]
  },
  {
   "cell_type": "code",
   "execution_count": null,
   "metadata": {},
   "outputs": [],
   "source": [
    "# ! get SNP along the concatenated alignment\n",
    "MC2SNP_pos = {}\n",
    "MC2total_length = {}\n",
    "for aln in tqdm(glob('./MC*_LCB/*_concat.aln')):\n",
    "    mc = aln.split('/')[-2].split('_LCB')[0]\n",
    "    records = list(SeqIO.parse(aln, 'fasta'))\n",
    "    length = len(records[0].seq)\n",
    "    MC2total_length[mc] = length\n",
    "    vcf = aln.replace('_concat.aln', '_snp.vcf')\n",
    "    df = pd.read_csv(vcf, sep='\\t', comment='#', header=None)\n",
    "    MC2SNP_pos[mc] = list(df[1])\n",
    "    # output a new concat.aln based on the given reference. and get a new 'snp.vcf'\n",
    "    # this snp.vcf is based on a concat.aln that match the reference. (in row of reference , no gap)\n",
    "\n",
    "# ! map the concatenated aln back to its original genome coordinates\n",
    "for mc in tqdm(MC2SNP_pos):\n",
    "    block_tab = f'./{mc}.tab'\n",
    "    block_order = f\"./{mc}_LCB/block_order.list\"\n",
    "    if mc not in mc2ref:continue\n",
    "    ref = mc2ref[mc]\n",
    "    aln = f'./{mc}_LCB/{mc}_concat.aln'\n",
    "    pos_list = MC2SNP_pos[mc]\n",
    "    pos2pos = list(aln_coordinate_convertor(aln, ref, pos_list))\n",
    "    ofile = f\"./{mc}_LCB/{mc}_snp_coordinate_{ref}.tsv\"\n",
    "    #if not exists(ofile):\n",
    "    map_back_pos(pos2pos, block_order, block_tab, ref, genome2contig2size,ofile=ofile )\n",
    "\n",
    "for map_file in tqdm(glob(f\"./*_LCB/*_snp_coordinate_*.tsv\")):\n",
    "    mc = map_file.split('/')[-2].split('_LCB')[0]\n",
    "    block_tab = f'./{mc}.tab'\n",
    "    ofile = map_file.replace('coordinate', 'density')\n",
    "    summary_SNP_pos(map_file, block_tab, ofile)\n"
   ]
  }
 ],
 "metadata": {
  "kernelspec": {
   "display_name": "Python 3.9.2 ('lab')",
   "language": "python",
   "name": "python3"
  },
  "language_info": {
   "codemirror_mode": {
    "name": "ipython",
    "version": 3
   },
   "file_extension": ".py",
   "mimetype": "text/x-python",
   "name": "python",
   "nbconvert_exporter": "python",
   "pygments_lexer": "ipython3",
   "version": "3.9.2"
  },
  "orig_nbformat": 4,
  "vscode": {
   "interpreter": {
    "hash": "61fbdd8963eac3e3afe19d6735ac45757603d4aec73c418ff2cfb1dc89e1994f"
   }
  }
 },
 "nbformat": 4,
 "nbformat_minor": 2
}
